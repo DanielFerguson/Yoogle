{
 "cells": [
  {
   "cell_type": "code",
   "execution_count": 144,
   "metadata": {},
   "outputs": [],
   "source": [
    "# Set up credentials and APIs\n",
    "\n",
    "from configparser import ConfigParser\n",
    "from algoliasearch.search_client import SearchClient\n",
    "\n",
    "parser = ConfigParser()\n",
    "_ = parser.read('secrets.cfg')\n",
    "\n",
    "# Google API\n",
    "GOOGLE_API_KEY = parser.get('google', 'api_key')\n",
    "\n",
    "# Algolia API\n",
    "ALGOLIA_APP_ID = parser.get('algolia', 'app_id')\n",
    "ALGOLIA_API_KEY = parser.get('algolia', 'api_key')\n",
    "ALGOLIA_INDEX_NAME = parser.get('algolia', 'index_name')\n",
    "\n",
    "service = build('youtube', 'v3', developerKey=GOOGLE_API_KEY)"
   ]
  },
  {
   "cell_type": "code",
   "execution_count": 138,
   "metadata": {},
   "outputs": [],
   "source": [
    "# Get Channels\n",
    "\n",
    "channels = [\n",
    "    'friendlyjordies',\n",
    "]\n",
    "\n",
    "channel_results = []\n",
    "for channel in channels:\n",
    "    channel_results.append(service.channels().list(\n",
    "        part='snippet,statistics,contentDetails',\n",
    "        forUsername=channel,\n",
    "    ).execute()['items'][0])"
   ]
  },
  {
   "cell_type": "code",
   "execution_count": 119,
   "metadata": {},
   "outputs": [],
   "source": [
    "# Get Video IDs\n",
    "\n",
    "search_results = []\n",
    "\n",
    "for channel in channel_results:\n",
    "    video_id = service.search().list(\n",
    "        part='snippet',\n",
    "        channelId=channel['id'],\n",
    "        maxResults='1',\n",
    "        order='date'\n",
    "    ).execute()['items'][0]['id']['videoId']\n",
    "    \n",
    "    search_results.append({\n",
    "        'videoID': video_id,\n",
    "        'part': None,\n",
    "        'publishedAt': None,\n",
    "        'channelId': channel['id'],\n",
    "        'channelThumbnail': channel['snippet']['thumbnails']['default']['url'],\n",
    "        'channelTitle': channel['snippet']['title'],\n",
    "        'title': None,\n",
    "        'description': None,\n",
    "        'thumbnail': None,\n",
    "        'tags': None,\n",
    "        'captions': None,\n",
    "        'category': None\n",
    "    })"
   ]
  },
  {
   "cell_type": "code",
   "execution_count": 120,
   "metadata": {},
   "outputs": [],
   "source": [
    "# Fetch VideoCategory List\n",
    "\n",
    "categories = service.videoCategories().list(\n",
    "    part='snippet',\n",
    "    regionCode='au'\n",
    ").execute()['items']"
   ]
  },
  {
   "cell_type": "code",
   "execution_count": 142,
   "metadata": {},
   "outputs": [],
   "source": [
    "# For each video, fetch captions, metadata and thumbnail\n",
    "\n",
    "from pytube import YouTube\n",
    "import srt\n",
    "import datetime\n",
    "\n",
    "videos = []\n",
    "\n",
    "def chunks(lst, n):\n",
    "    for i in range(0, len(lst), n):\n",
    "        yield lst[i:i + n]\n",
    "\n",
    "for video in search_results:\n",
    "    # Fetch Video Resource\n",
    "    videoResource = service.videos().list(\n",
    "        part='id,snippet,statistics,topicDetails',\n",
    "        id=video['videoID']\n",
    "    ).execute()\n",
    "\n",
    "    # Fetch Caption Tracks\n",
    "    yt = YouTube('https://www.youtube.com/watch?v=' + videoResource['items'][0]['id'])\n",
    "    caption_tracks = yt.caption_tracks\n",
    "    \n",
    "    # Download caption tracks to local srt files\n",
    "    for track in caption_tracks:\n",
    "        track.download(videoResource['items'][0]['id'])\n",
    "\n",
    "    # Create caption objects\n",
    "    captions = []\n",
    "    \n",
    "    f = open(videoResource['items'][0]['id'] + \" (en).srt\", \"r\")\n",
    "    raw_captions = list(srt.parse(f.read()))\n",
    "\n",
    "    for caption in raw_captions:\n",
    "        captions.append({\n",
    "            'content': caption.content,\n",
    "            'start': srt.timedelta_to_srt_timestamp(caption.start),\n",
    "        })\n",
    "        \n",
    "    caption_chunks = list(chunks(captions, 50))\n",
    "\n",
    "    # Create objs\n",
    "    details = videoResource['items'][0]['snippet']\n",
    "    indx = 0\n",
    "\n",
    "    for chunk in caption_chunks:\n",
    "        obj = video.copy()\n",
    "        \n",
    "        obj['objectID'] = str(obj['channelId']) + '--' + str(obj['videoID']) + '--' + str(indx)\n",
    "        obj['part'] = indx\n",
    "        obj['publishedAt'] = details['publishedAt']\n",
    "        obj['title'] = details['title']\n",
    "        obj['description'] = details['description']\n",
    "        obj['thumbnail'] = details['thumbnails']['high']['url']\n",
    "        obj['tags'] = details['tags']\n",
    "        obj['captions'] = chunk\n",
    "        obj['category'] = next((category['snippet']['title'] for category in categories if category['id'] == details['categoryId']), details['categoryId'])\n",
    "        \n",
    "        indx += 1\n",
    "        videos.append(obj)"
   ]
  },
  {
   "cell_type": "code",
   "execution_count": null,
   "metadata": {},
   "outputs": [],
   "source": [
    "# Close the Google API\n",
    "\n",
    "service.close()"
   ]
  },
  {
   "cell_type": "code",
   "execution_count": 149,
   "metadata": {},
   "outputs": [
    {
     "ename": "AlgoliaUnreachableHostException",
     "evalue": "Unreachable hosts",
     "output_type": "error",
     "traceback": [
      "\u001b[0;31m---------------------------------------------------------------------------\u001b[0m",
      "\u001b[0;31mAlgoliaUnreachableHostException\u001b[0m           Traceback (most recent call last)",
      "\u001b[0;32m<ipython-input-149-f99727ce7048>\u001b[0m in \u001b[0;36m<module>\u001b[0;34m\u001b[0m\n\u001b[1;32m      4\u001b[0m \u001b[0mindex\u001b[0m \u001b[0;34m=\u001b[0m \u001b[0mclient\u001b[0m\u001b[0;34m.\u001b[0m\u001b[0minit_index\u001b[0m\u001b[0;34m(\u001b[0m\u001b[0mALGOLIA_INDEX_NAME\u001b[0m\u001b[0;34m)\u001b[0m\u001b[0;34m\u001b[0m\u001b[0;34m\u001b[0m\u001b[0m\n\u001b[1;32m      5\u001b[0m \u001b[0;34m\u001b[0m\u001b[0m\n\u001b[0;32m----> 6\u001b[0;31m \u001b[0mres\u001b[0m \u001b[0;34m=\u001b[0m \u001b[0mindex\u001b[0m\u001b[0;34m.\u001b[0m\u001b[0msave_objects\u001b[0m\u001b[0;34m(\u001b[0m\u001b[0mvideos\u001b[0m\u001b[0;34m,\u001b[0m \u001b[0;34m{\u001b[0m\u001b[0;34m'autoGenerateObjectIDIfNotExist'\u001b[0m\u001b[0;34m:\u001b[0m \u001b[0;32mFalse\u001b[0m\u001b[0;34m}\u001b[0m\u001b[0;34m)\u001b[0m\u001b[0;34m\u001b[0m\u001b[0;34m\u001b[0m\u001b[0m\n\u001b[0m",
      "\u001b[0;32m~/opt/anaconda3/lib/python3.7/site-packages/algoliasearch/search_index.py\u001b[0m in \u001b[0;36msave_objects\u001b[0;34m(self, objects, request_options)\u001b[0m\n\u001b[1;32m     84\u001b[0m             \u001b[0;32mtry\u001b[0m\u001b[0;34m:\u001b[0m\u001b[0;34m\u001b[0m\u001b[0;34m\u001b[0m\u001b[0m\n\u001b[1;32m     85\u001b[0m                 response = self._chunk('updateObject', objects,\n\u001b[0;32m---> 86\u001b[0;31m                                        request_options)\n\u001b[0m\u001b[1;32m     87\u001b[0m             \u001b[0;32mexcept\u001b[0m \u001b[0mMissingObjectIdException\u001b[0m \u001b[0;32mas\u001b[0m \u001b[0me\u001b[0m\u001b[0;34m:\u001b[0m\u001b[0;34m\u001b[0m\u001b[0;34m\u001b[0m\u001b[0m\n\u001b[1;32m     88\u001b[0m                 \u001b[0mmessage\u001b[0m \u001b[0;34m=\u001b[0m \u001b[0mstr\u001b[0m\u001b[0;34m(\u001b[0m\u001b[0me\u001b[0m\u001b[0;34m)\u001b[0m\u001b[0;34m\u001b[0m\u001b[0;34m\u001b[0m\u001b[0m\n",
      "\u001b[0;32m~/opt/anaconda3/lib/python3.7/site-packages/algoliasearch/search_index.py\u001b[0m in \u001b[0;36m_chunk\u001b[0;34m(self, action, objects, request_options, validate_object_id)\u001b[0m\n\u001b[1;32m    574\u001b[0m                 \u001b[0massert_object_id\u001b[0m\u001b[0;34m(\u001b[0m\u001b[0mbatch\u001b[0m\u001b[0;34m)\u001b[0m\u001b[0;34m\u001b[0m\u001b[0;34m\u001b[0m\u001b[0m\n\u001b[1;32m    575\u001b[0m             \u001b[0mrequests\u001b[0m \u001b[0;34m=\u001b[0m \u001b[0mbuild_raw_response_batch\u001b[0m\u001b[0;34m(\u001b[0m\u001b[0maction\u001b[0m\u001b[0;34m,\u001b[0m \u001b[0mbatch\u001b[0m\u001b[0;34m)\u001b[0m\u001b[0;34m\u001b[0m\u001b[0;34m\u001b[0m\u001b[0m\n\u001b[0;32m--> 576\u001b[0;31m             \u001b[0mraw_responses\u001b[0m\u001b[0;34m.\u001b[0m\u001b[0mappend\u001b[0m\u001b[0;34m(\u001b[0m\u001b[0mself\u001b[0m\u001b[0;34m.\u001b[0m\u001b[0m_raw_batch\u001b[0m\u001b[0;34m(\u001b[0m\u001b[0mrequests\u001b[0m\u001b[0;34m,\u001b[0m \u001b[0mrequest_options\u001b[0m\u001b[0;34m)\u001b[0m\u001b[0;34m)\u001b[0m\u001b[0;34m\u001b[0m\u001b[0;34m\u001b[0m\u001b[0m\n\u001b[0m\u001b[1;32m    577\u001b[0m \u001b[0;34m\u001b[0m\u001b[0m\n\u001b[1;32m    578\u001b[0m         \u001b[0;32mreturn\u001b[0m \u001b[0mIndexingResponse\u001b[0m\u001b[0;34m(\u001b[0m\u001b[0mself\u001b[0m\u001b[0;34m,\u001b[0m \u001b[0mraw_responses\u001b[0m\u001b[0;34m)\u001b[0m\u001b[0;34m\u001b[0m\u001b[0;34m\u001b[0m\u001b[0m\n",
      "\u001b[0;32m~/opt/anaconda3/lib/python3.7/site-packages/algoliasearch/search_index.py\u001b[0m in \u001b[0;36m_raw_batch\u001b[0;34m(self, requests, request_options)\u001b[0m\n\u001b[1;32m    587\u001b[0m                 \u001b[0;34m'requests'\u001b[0m\u001b[0;34m:\u001b[0m \u001b[0mlist\u001b[0m\u001b[0;34m(\u001b[0m\u001b[0mrequests\u001b[0m\u001b[0;34m)\u001b[0m\u001b[0;34m\u001b[0m\u001b[0;34m\u001b[0m\u001b[0m\n\u001b[1;32m    588\u001b[0m             },\n\u001b[0;32m--> 589\u001b[0;31m             \u001b[0mrequest_options\u001b[0m\u001b[0;34m\u001b[0m\u001b[0;34m\u001b[0m\u001b[0m\n\u001b[0m\u001b[1;32m    590\u001b[0m         )\n\u001b[1;32m    591\u001b[0m \u001b[0;34m\u001b[0m\u001b[0m\n",
      "\u001b[0;32m~/opt/anaconda3/lib/python3.7/site-packages/algoliasearch/http/transporter.py\u001b[0m in \u001b[0;36mwrite\u001b[0;34m(self, verb, path, data, request_options)\u001b[0m\n\u001b[1;32m     40\u001b[0m         \u001b[0mhosts\u001b[0m \u001b[0;34m=\u001b[0m \u001b[0mself\u001b[0m\u001b[0;34m.\u001b[0m\u001b[0m_config\u001b[0m\u001b[0;34m.\u001b[0m\u001b[0mhosts\u001b[0m\u001b[0;34m.\u001b[0m\u001b[0mwrite\u001b[0m\u001b[0;34m(\u001b[0m\u001b[0;34m)\u001b[0m\u001b[0;34m\u001b[0m\u001b[0;34m\u001b[0m\u001b[0m\n\u001b[1;32m     41\u001b[0m \u001b[0;34m\u001b[0m\u001b[0m\n\u001b[0;32m---> 42\u001b[0;31m         \u001b[0;32mreturn\u001b[0m \u001b[0mself\u001b[0m\u001b[0;34m.\u001b[0m\u001b[0mrequest\u001b[0m\u001b[0;34m(\u001b[0m\u001b[0mverb\u001b[0m\u001b[0;34m,\u001b[0m \u001b[0mhosts\u001b[0m\u001b[0;34m,\u001b[0m \u001b[0mpath\u001b[0m\u001b[0;34m,\u001b[0m \u001b[0mdata\u001b[0m\u001b[0;34m,\u001b[0m \u001b[0mrequest_options\u001b[0m\u001b[0;34m,\u001b[0m \u001b[0mtimeout\u001b[0m\u001b[0;34m)\u001b[0m\u001b[0;34m\u001b[0m\u001b[0;34m\u001b[0m\u001b[0m\n\u001b[0m\u001b[1;32m     43\u001b[0m \u001b[0;34m\u001b[0m\u001b[0m\n\u001b[1;32m     44\u001b[0m     \u001b[0;32mdef\u001b[0m \u001b[0mread\u001b[0m\u001b[0;34m(\u001b[0m\u001b[0mself\u001b[0m\u001b[0;34m,\u001b[0m \u001b[0mverb\u001b[0m\u001b[0;34m,\u001b[0m \u001b[0mpath\u001b[0m\u001b[0;34m,\u001b[0m \u001b[0mdata\u001b[0m\u001b[0;34m,\u001b[0m \u001b[0mrequest_options\u001b[0m\u001b[0;34m)\u001b[0m\u001b[0;34m:\u001b[0m\u001b[0;34m\u001b[0m\u001b[0;34m\u001b[0m\u001b[0m\n",
      "\u001b[0;32m~/opt/anaconda3/lib/python3.7/site-packages/algoliasearch/http/transporter.py\u001b[0m in \u001b[0;36mrequest\u001b[0;34m(self, verb, hosts, path, data, request_options, timeout)\u001b[0m\n\u001b[1;32m     73\u001b[0m                           self._config.connect_timeout, timeout)\n\u001b[1;32m     74\u001b[0m \u001b[0;34m\u001b[0m\u001b[0m\n\u001b[0;32m---> 75\u001b[0;31m         \u001b[0;32mreturn\u001b[0m \u001b[0mself\u001b[0m\u001b[0;34m.\u001b[0m\u001b[0mretry\u001b[0m\u001b[0;34m(\u001b[0m\u001b[0mhosts\u001b[0m\u001b[0;34m,\u001b[0m \u001b[0mrequest\u001b[0m\u001b[0;34m,\u001b[0m \u001b[0mrelative_url\u001b[0m\u001b[0;34m)\u001b[0m\u001b[0;34m\u001b[0m\u001b[0;34m\u001b[0m\u001b[0m\n\u001b[0m\u001b[1;32m     76\u001b[0m \u001b[0;34m\u001b[0m\u001b[0m\n\u001b[1;32m     77\u001b[0m     \u001b[0;32mdef\u001b[0m \u001b[0mretry\u001b[0m\u001b[0;34m(\u001b[0m\u001b[0mself\u001b[0m\u001b[0;34m,\u001b[0m \u001b[0mhosts\u001b[0m\u001b[0;34m,\u001b[0m \u001b[0mrequest\u001b[0m\u001b[0;34m,\u001b[0m \u001b[0mrelative_url\u001b[0m\u001b[0;34m)\u001b[0m\u001b[0;34m:\u001b[0m\u001b[0;34m\u001b[0m\u001b[0;34m\u001b[0m\u001b[0m\n",
      "\u001b[0;32m~/opt/anaconda3/lib/python3.7/site-packages/algoliasearch/http/transporter.py\u001b[0m in \u001b[0;36mretry\u001b[0;34m(self, hosts, request, relative_url)\u001b[0m\n\u001b[1;32m     96\u001b[0m                 \u001b[0;32mraise\u001b[0m \u001b[0mRequestException\u001b[0m\u001b[0;34m(\u001b[0m\u001b[0mcontent\u001b[0m\u001b[0;34m,\u001b[0m \u001b[0mresponse\u001b[0m\u001b[0;34m.\u001b[0m\u001b[0mstatus_code\u001b[0m\u001b[0;34m)\u001b[0m\u001b[0;34m\u001b[0m\u001b[0;34m\u001b[0m\u001b[0m\n\u001b[1;32m     97\u001b[0m \u001b[0;34m\u001b[0m\u001b[0m\n\u001b[0;32m---> 98\u001b[0;31m         \u001b[0;32mraise\u001b[0m \u001b[0mAlgoliaUnreachableHostException\u001b[0m\u001b[0;34m(\u001b[0m\u001b[0;34m'Unreachable hosts'\u001b[0m\u001b[0;34m)\u001b[0m\u001b[0;34m\u001b[0m\u001b[0;34m\u001b[0m\u001b[0m\n\u001b[0m\u001b[1;32m     99\u001b[0m \u001b[0;34m\u001b[0m\u001b[0m\n\u001b[1;32m    100\u001b[0m     \u001b[0;32mdef\u001b[0m \u001b[0mclose\u001b[0m\u001b[0;34m(\u001b[0m\u001b[0mself\u001b[0m\u001b[0;34m)\u001b[0m\u001b[0;34m:\u001b[0m\u001b[0;34m\u001b[0m\u001b[0;34m\u001b[0m\u001b[0m\n",
      "\u001b[0;31mAlgoliaUnreachableHostException\u001b[0m: Unreachable hosts"
     ]
    }
   ],
   "source": [
    "# Upload to Algolia\n",
    "\n",
    "client = SearchClient.create(ALGOLIA_APP_ID, ALGOLIA_API_KEY)\n",
    "index = client.init_index(ALGOLIA_INDEX_NAME)\n",
    "\n",
    "res = index.save_objects(videos, {'autoGenerateObjectIDIfNotExist': False})"
   ]
  },
  {
   "cell_type": "code",
   "execution_count": null,
   "metadata": {},
   "outputs": [],
   "source": []
  }
 ],
 "metadata": {
  "kernelspec": {
   "display_name": "Python 3",
   "language": "python",
   "name": "python3"
  },
  "language_info": {
   "codemirror_mode": {
    "name": "ipython",
    "version": 3
   },
   "file_extension": ".py",
   "mimetype": "text/x-python",
   "name": "python",
   "nbconvert_exporter": "python",
   "pygments_lexer": "ipython3",
   "version": "3.7.6"
  }
 },
 "nbformat": 4,
 "nbformat_minor": 4
}
