{
 "cells": [
  {
   "cell_type": "code",
   "execution_count": 139,
   "metadata": {},
   "outputs": [],
   "source": [
    "# Set up credentials and APIs\n",
    "\n",
    "from configparser import ConfigParser\n",
    "from algoliasearch.search_client import SearchClient\n",
    "\n",
    "parser = ConfigParser()\n",
    "_ = parser.read('secrets.cfg')\n",
    "\n",
    "# Google API\n",
    "GOOGLE_API_KEY = parser.get('google', 'api_key')\n",
    "\n",
    "# Algolia API\n",
    "ALGOLIA_APP_ID = parser.get('algolia', 'app_id')\n",
    "ALGOLIA_API_KEY = parser.get('algolia', 'api_key')\n",
    "ALGOLIA_INDEX_NAME = parser.get('algolia', 'index_name')\n",
    "\n",
    "client = SearchClient.create(ALGOLIA_APP_ID, ALGOLIA_API_KEY)\n",
    "index = client.init_index(ALGOLIA_INDEX_NAME)\n",
    "\n",
    "service = build('youtube', 'v3', developerKey=GOOGLE_API_KEY)"
   ]
  },
  {
   "cell_type": "code",
   "execution_count": 138,
   "metadata": {},
   "outputs": [],
   "source": [
    "# Get Channels\n",
    "\n",
    "channels = [\n",
    "    'friendlyjordies',\n",
    "]\n",
    "\n",
    "channel_results = []\n",
    "for channel in channels:\n",
    "    channel_results.append(service.channels().list(\n",
    "        part='snippet,statistics,contentDetails',\n",
    "        forUsername=channel,\n",
    "    ).execute()['items'][0])"
   ]
  },
  {
   "cell_type": "code",
   "execution_count": 119,
   "metadata": {},
   "outputs": [],
   "source": [
    "# Get Video IDs\n",
    "\n",
    "search_results = []\n",
    "\n",
    "for channel in channel_results:\n",
    "    video_id = service.search().list(\n",
    "        part='snippet',\n",
    "        channelId=channel['id'],\n",
    "        maxResults='1',\n",
    "        order='date'\n",
    "    ).execute()['items'][0]['id']['videoId']\n",
    "    \n",
    "    search_results.append({\n",
    "        'videoID': video_id,\n",
    "        'part': None,\n",
    "        'publishedAt': None,\n",
    "        'channelId': channel['id'],\n",
    "        'channelThumbnail': channel['snippet']['thumbnails']['default']['url'],\n",
    "        'channelTitle': channel['snippet']['title'],\n",
    "        'title': None,\n",
    "        'description': None,\n",
    "        'thumbnail': None,\n",
    "        'tags': None,\n",
    "        'captions': None,\n",
    "        'category': None\n",
    "    })"
   ]
  },
  {
   "cell_type": "code",
   "execution_count": 120,
   "metadata": {},
   "outputs": [],
   "source": [
    "# Fetch VideoCategory List\n",
    "\n",
    "categories = service.videoCategories().list(\n",
    "    part='snippet',\n",
    "    regionCode='au'\n",
    ").execute()['items']"
   ]
  },
  {
   "cell_type": "code",
   "execution_count": 141,
   "metadata": {},
   "outputs": [
    {
     "ename": "TypeError",
     "evalue": "can only concatenate str (not \"int\") to str",
     "output_type": "error",
     "traceback": [
      "\u001b[0;31m---------------------------------------------------------------------------\u001b[0m",
      "\u001b[0;31mTypeError\u001b[0m                                 Traceback (most recent call last)",
      "\u001b[0;32m<ipython-input-141-b1020c19caa3>\u001b[0m in \u001b[0;36m<module>\u001b[0;34m\u001b[0m\n\u001b[1;32m     47\u001b[0m         \u001b[0mobj\u001b[0m \u001b[0;34m=\u001b[0m \u001b[0mvideo\u001b[0m\u001b[0;34m.\u001b[0m\u001b[0mcopy\u001b[0m\u001b[0;34m(\u001b[0m\u001b[0;34m)\u001b[0m\u001b[0;34m\u001b[0m\u001b[0;34m\u001b[0m\u001b[0m\n\u001b[1;32m     48\u001b[0m \u001b[0;34m\u001b[0m\u001b[0m\n\u001b[0;32m---> 49\u001b[0;31m         \u001b[0mobj\u001b[0m\u001b[0;34m[\u001b[0m\u001b[0;34m'objectID'\u001b[0m\u001b[0;34m]\u001b[0m \u001b[0;34m=\u001b[0m \u001b[0mobj\u001b[0m\u001b[0;34m[\u001b[0m\u001b[0;34m'channelId'\u001b[0m\u001b[0;34m]\u001b[0m \u001b[0;34m+\u001b[0m \u001b[0;34m'--'\u001b[0m \u001b[0;34m+\u001b[0m \u001b[0mobj\u001b[0m\u001b[0;34m[\u001b[0m\u001b[0;34m'videoID'\u001b[0m\u001b[0;34m]\u001b[0m \u001b[0;34m+\u001b[0m \u001b[0;34m'--'\u001b[0m \u001b[0;34m+\u001b[0m \u001b[0mindx\u001b[0m\u001b[0;34m\u001b[0m\u001b[0;34m\u001b[0m\u001b[0m\n\u001b[0m\u001b[1;32m     50\u001b[0m         \u001b[0mobj\u001b[0m\u001b[0;34m[\u001b[0m\u001b[0;34m'part'\u001b[0m\u001b[0;34m]\u001b[0m \u001b[0;34m=\u001b[0m \u001b[0mindx\u001b[0m\u001b[0;34m\u001b[0m\u001b[0;34m\u001b[0m\u001b[0m\n\u001b[1;32m     51\u001b[0m         \u001b[0mobj\u001b[0m\u001b[0;34m[\u001b[0m\u001b[0;34m'publishedAt'\u001b[0m\u001b[0;34m]\u001b[0m \u001b[0;34m=\u001b[0m \u001b[0mdetails\u001b[0m\u001b[0;34m[\u001b[0m\u001b[0;34m'publishedAt'\u001b[0m\u001b[0;34m]\u001b[0m\u001b[0;34m\u001b[0m\u001b[0;34m\u001b[0m\u001b[0m\n",
      "\u001b[0;31mTypeError\u001b[0m: can only concatenate str (not \"int\") to str"
     ]
    }
   ],
   "source": [
    "# For each video, fetch captions, metadata and thumbnail\n",
    "\n",
    "from pytube import YouTube\n",
    "import srt\n",
    "import datetime\n",
    "\n",
    "videos = []\n",
    "\n",
    "def chunks(lst, n):\n",
    "    for i in range(0, len(lst), n):\n",
    "        yield lst[i:i + n]\n",
    "\n",
    "for video in search_results:\n",
    "    # Fetch Video Resource\n",
    "    videoResource = service.videos().list(\n",
    "        part='id,snippet,statistics,topicDetails',\n",
    "        id=video['videoID']\n",
    "    ).execute()\n",
    "\n",
    "    # Fetch Caption Tracks\n",
    "    yt = YouTube('https://www.youtube.com/watch?v=' + videoResource['items'][0]['id'])\n",
    "    caption_tracks = yt.caption_tracks\n",
    "    \n",
    "    # Download caption tracks to local srt files\n",
    "    for track in caption_tracks:\n",
    "        track.download(videoResource['items'][0]['id'])\n",
    "\n",
    "    # Create caption objects\n",
    "    captions = []\n",
    "    \n",
    "    f = open(videoResource['items'][0]['id'] + \" (en).srt\", \"r\")\n",
    "    raw_captions = list(srt.parse(f.read()))\n",
    "\n",
    "    for caption in raw_captions:\n",
    "        captions.append({\n",
    "            'content': caption.content,\n",
    "            'start': srt.timedelta_to_srt_timestamp(caption.start),\n",
    "        })\n",
    "        \n",
    "    caption_chunks = list(chunks(captions, 50))\n",
    "\n",
    "    # Create objs\n",
    "    details = videoResource['items'][0]['snippet']\n",
    "    indx = 0\n",
    "\n",
    "    for chunk in caption_chunks:\n",
    "        obj = video.copy()\n",
    "        \n",
    "        obj['objectID'] = str(obj['channelId']) + '--' + str(obj['videoID']) + '--' + str(indx)\n",
    "        obj['part'] = indx\n",
    "        obj['publishedAt'] = details['publishedAt']\n",
    "        obj['title'] = details['title']\n",
    "        obj['description'] = details['description']\n",
    "        obj['thumbnail'] = details['thumbnails']['high']['url']\n",
    "        obj['tags'] = details['tags']\n",
    "        obj['captions'] = chunk\n",
    "        obj['category'] = next((category['snippet']['title'] for category in categories if category['id'] == details['categoryId']), details['categoryId'])\n",
    "        \n",
    "        indx += 1\n",
    "        videos.append(obj)"
   ]
  },
  {
   "cell_type": "code",
   "execution_count": null,
   "metadata": {},
   "outputs": [],
   "source": [
    "# Close the Google API\n",
    "\n",
    "service.close()"
   ]
  },
  {
   "cell_type": "code",
   "execution_count": 129,
   "metadata": {},
   "outputs": [],
   "source": [
    "# Upload to Algolia\n",
    "\n",
    "res = index.save_objects(videos, {'autoGenerateObjectIDIfNotExist': False})"
   ]
  }
 ],
 "metadata": {
  "kernelspec": {
   "display_name": "Python 3",
   "language": "python",
   "name": "python3"
  },
  "language_info": {
   "codemirror_mode": {
    "name": "ipython",
    "version": 3
   },
   "file_extension": ".py",
   "mimetype": "text/x-python",
   "name": "python",
   "nbconvert_exporter": "python",
   "pygments_lexer": "ipython3",
   "version": "3.7.6"
  }
 },
 "nbformat": 4,
 "nbformat_minor": 4
}
