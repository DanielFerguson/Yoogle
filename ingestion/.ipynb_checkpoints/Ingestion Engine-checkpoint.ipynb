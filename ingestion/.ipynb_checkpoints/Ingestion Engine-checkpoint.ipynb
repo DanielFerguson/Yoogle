{
 "cells": [
  {
   "cell_type": "code",
   "execution_count": 11,
   "metadata": {},
   "outputs": [
    {
     "name": "stdout",
     "output_type": "stream",
     "text": [
      "2JNWXKECTG\n",
      "47db2ef808bb7f443b59b4cefafee93c\n",
      "test_VIDEOS\n"
     ]
    }
   ],
   "source": [
    "# Set up credentials and APIs\n",
    "\n",
    "from configparser import ConfigParser\n",
    "from algoliasearch.search_client import SearchClient\n",
    "from googleapiclient.discovery import build\n",
    "\n",
    "parser = ConfigParser()\n",
    "_ = parser.read('secrets.cfg')\n",
    "\n",
    "# Google API\n",
    "GOOGLE_API_KEY = parser.get('google', 'api_key')\n",
    "\n",
    "# Algolia API\n",
    "ALGOLIA_APP_ID = parser.get('algolia', 'app_id')\n",
    "ALGOLIA_API_KEY = parser.get('algolia', 'api_key')\n",
    "ALGOLIA_INDEX_NAME = parser.get('algolia', 'index_name')\n",
    "\n",
    "print(ALGOLIA_APP_ID)\n",
    "print(ALGOLIA_API_KEY)\n",
    "print(ALGOLIA_INDEX_NAME)\n",
    "\n",
    "service = build('youtube', 'v3', developerKey=GOOGLE_API_KEY)"
   ]
  },
  {
   "cell_type": "code",
   "execution_count": 3,
   "metadata": {},
   "outputs": [],
   "source": [
    "# Get Channels\n",
    "\n",
    "channels = [\n",
    "    'UC3XTzVzaHQEd30rQbuvCtTQ',\n",
    "    'UCR1D15p_vdP3HkrH8wgjQRw',\n",
    "    'UC6nSFpj9HTCZ5t-N3Rm3-HA',\n",
    "    'UC0QHWhjbe5fGJEPz3sVb6nw'\n",
    "]\n",
    "\n",
    "channel_results = []\n",
    "for channel in channels:\n",
    "    channel_results.append(service.channels().list(\n",
    "        part='snippet,statistics,contentDetails',\n",
    "        id=channel,\n",
    "    ).execute()['items'][0])"
   ]
  },
  {
   "cell_type": "code",
   "execution_count": 26,
   "metadata": {},
   "outputs": [
    {
     "name": "stdout",
     "output_type": "stream",
     "text": [
      "[{'kind': 'youtube#channel', 'etag': 'oen3soYe4oxqmcOOix04RF0Y5uo', 'id': 'UC2-i3KuYoODXsM99Z3-Gm0A', 'snippet': {'title': 'friendlyjordies', 'description': \"IT'S THE BIGGEST VARIETY SHOW IN TOOOOOOOOOOWWWWWWWWWNNNNNNNN!!!!!!!!!!!!!!\", 'publishedAt': '2013-02-13T07:38:14Z', 'thumbnails': {'default': {'url': 'https://yt3.ggpht.com/a/AATXAJwD7nbBLQbux-F1QUaeQAQqtmWIG78pATSSXpBV8A=s88-c-k-c0xffffffff-no-rj-mo', 'width': 88, 'height': 88}, 'medium': {'url': 'https://yt3.ggpht.com/a/AATXAJwD7nbBLQbux-F1QUaeQAQqtmWIG78pATSSXpBV8A=s240-c-k-c0xffffffff-no-rj-mo', 'width': 240, 'height': 240}, 'high': {'url': 'https://yt3.ggpht.com/a/AATXAJwD7nbBLQbux-F1QUaeQAQqtmWIG78pATSSXpBV8A=s800-c-k-c0xffffffff-no-rj-mo', 'width': 800, 'height': 800}}, 'localized': {'title': 'friendlyjordies', 'description': \"IT'S THE BIGGEST VARIETY SHOW IN TOOOOOOOOOOWWWWWWWWWNNNNNNNN!!!!!!!!!!!!!!\"}}, 'contentDetails': {'relatedPlaylists': {'likes': '', 'favorites': '', 'uploads': 'UU2-i3KuYoODXsM99Z3-Gm0A', 'watchHistory': 'HL', 'watchLater': 'WL'}}, 'statistics': {'viewCount': '109195422', 'commentCount': '0', 'subscriberCount': '467000', 'hiddenSubscriberCount': False, 'videoCount': '559'}}]\n"
     ]
    },
    {
     "ename": "KeyError",
     "evalue": "'videoId'",
     "output_type": "error",
     "traceback": [
      "\u001b[0;31m---------------------------------------------------------------------------\u001b[0m",
      "\u001b[0;31mKeyError\u001b[0m                                  Traceback (most recent call last)",
      "\u001b[0;32m<ipython-input-26-5d3ef144fa73>\u001b[0m in \u001b[0;36m<module>\u001b[0;34m\u001b[0m\n\u001b[1;32m     14\u001b[0m     \u001b[0;32mfor\u001b[0m \u001b[0mvideo\u001b[0m \u001b[0;32min\u001b[0m \u001b[0mvideos\u001b[0m\u001b[0;34m:\u001b[0m\u001b[0;34m\u001b[0m\u001b[0;34m\u001b[0m\u001b[0m\n\u001b[1;32m     15\u001b[0m         search_results.append({\n\u001b[0;32m---> 16\u001b[0;31m             \u001b[0;34m'videoID'\u001b[0m\u001b[0;34m:\u001b[0m \u001b[0mvideo\u001b[0m\u001b[0;34m[\u001b[0m\u001b[0;34m'id'\u001b[0m\u001b[0;34m]\u001b[0m\u001b[0;34m[\u001b[0m\u001b[0;34m'videoId'\u001b[0m\u001b[0;34m]\u001b[0m\u001b[0;34m,\u001b[0m\u001b[0;34m\u001b[0m\u001b[0;34m\u001b[0m\u001b[0m\n\u001b[0m\u001b[1;32m     17\u001b[0m             \u001b[0;34m'part'\u001b[0m\u001b[0;34m:\u001b[0m \u001b[0;32mNone\u001b[0m\u001b[0;34m,\u001b[0m\u001b[0;34m\u001b[0m\u001b[0;34m\u001b[0m\u001b[0m\n\u001b[1;32m     18\u001b[0m             \u001b[0;34m'publishedAt'\u001b[0m\u001b[0;34m:\u001b[0m \u001b[0;32mNone\u001b[0m\u001b[0;34m,\u001b[0m\u001b[0;34m\u001b[0m\u001b[0;34m\u001b[0m\u001b[0m\n",
      "\u001b[0;31mKeyError\u001b[0m: 'videoId'"
     ]
    }
   ],
   "source": [
    "# Get Video IDs\n",
    "\n",
    "search_results = []\n",
    "\n",
    "for channel in channel_results:\n",
    "    videos = service.search().list(\n",
    "        part='snippet',\n",
    "        channelId=channel['id'],\n",
    "        maxResults='50',\n",
    "        order='date'\n",
    "    ).execute()['items']\n",
    "    \n",
    "    for video in videos:\n",
    "        search_results.append({\n",
    "            'videoID': video['id']['videoId'],\n",
    "            'part': None,\n",
    "            'publishedAt': None,\n",
    "            'channelId': channel['id'],\n",
    "            'channelThumbnail': channel['snippet']['thumbnails']['default']['url'],\n",
    "            'channelTitle': channel['snippet']['title'],\n",
    "            'title': None,\n",
    "            'description': None,\n",
    "            'thumbnail': None,\n",
    "            'tags': None,\n",
    "            'captions': None,\n",
    "            'category': None\n",
    "        })"
   ]
  },
  {
   "cell_type": "code",
   "execution_count": 27,
   "metadata": {},
   "outputs": [],
   "source": [
    "# Fetch VideoCategory List\n",
    "\n",
    "categories = service.videoCategories().list(\n",
    "    part='snippet',\n",
    "    regionCode='au'\n",
    ").execute()['items']"
   ]
  },
  {
   "cell_type": "code",
   "execution_count": 35,
   "metadata": {},
   "outputs": [
    {
     "name": "stdout",
     "output_type": "stream",
     "text": [
      "Error\n",
      "Error\n"
     ]
    }
   ],
   "source": [
    "# For each video, fetch captions, metadata and thumbnail\n",
    "\n",
    "from pytube import YouTube\n",
    "import srt\n",
    "import datetime\n",
    "\n",
    "videos = []\n",
    "\n",
    "def chunks(lst, n):\n",
    "    for i in range(0, len(lst), n):\n",
    "        yield lst[i:i + n]\n",
    "\n",
    "video_indx = 0\n",
    "for video in search_results:\n",
    "    # Fetch Video Resource\n",
    "    videoResource = service.videos().list(\n",
    "        part='id,snippet,statistics,topicDetails',\n",
    "        id=video['videoID']\n",
    "    ).execute()\n",
    "\n",
    "    \n",
    "        \n",
    "    try:\n",
    "        # Fetch Caption Tracks\n",
    "        yt = YouTube('https://www.youtube.com/watch?v=' + videoResource['items'][0]['id'])\n",
    "        caption_tracks = yt.caption_tracks\n",
    "\n",
    "        # Download caption tracks to local srt files\n",
    "        for track in caption_tracks:\n",
    "            track.download(str(video_indx))\n",
    "\n",
    "        # Create caption objects\n",
    "        captions = []\n",
    "\n",
    "        f = open(f\"{str(video_indx)} (en).srt\", \"r\")\n",
    "        raw_captions = list(srt.parse(f.read()))\n",
    "\n",
    "        video_indx += 1\n",
    "\n",
    "        for caption in raw_captions:\n",
    "            captions.append({\n",
    "                'content': caption.content,\n",
    "                'start': srt.timedelta_to_srt_timestamp(caption.start),\n",
    "            })\n",
    "\n",
    "        caption_chunks = list(chunks(captions, 50))\n",
    "\n",
    "        # Create objs\n",
    "        details = videoResource['items'][0]['snippet']\n",
    "        indx = 0\n",
    "\n",
    "        for chunk in caption_chunks:\n",
    "            obj = video.copy()\n",
    "\n",
    "            obj['objectID'] = str(obj['channelId']) + '--' + str(obj['videoID']) + '--' + str(indx)\n",
    "            obj['part'] = indx\n",
    "            obj['publishedAt'] = details['publishedAt']\n",
    "            obj['title'] = details['title']\n",
    "            obj['description'] = details['description']\n",
    "            obj['thumbnail'] = details['thumbnails']['high']['url']\n",
    "            obj['tags'] = details['tags']\n",
    "            obj['captions'] = chunk\n",
    "            obj['category'] = next((category['snippet']['title'] for category in categories if category['id'] == details['categoryId']), details['categoryId'])\n",
    "\n",
    "            indx += 1\n",
    "            videos.append(obj)\n",
    "    except:\n",
    "        print(\"Error\")"
   ]
  },
  {
   "cell_type": "code",
   "execution_count": 36,
   "metadata": {},
   "outputs": [],
   "source": [
    "# Upload to Algolia\n",
    "\n",
    "client = SearchClient.create(ALGOLIA_APP_ID, ALGOLIA_API_KEY)\n",
    "index = client.init_index(ALGOLIA_INDEX_NAME)\n",
    "\n",
    "res = index.save_objects(videos, {'autoGenerateObjectIDIfNotExist': False})"
   ]
  },
  {
   "cell_type": "code",
   "execution_count": null,
   "metadata": {},
   "outputs": [],
   "source": []
  }
 ],
 "metadata": {
  "kernelspec": {
   "display_name": "Python 3",
   "language": "python",
   "name": "python3"
  },
  "language_info": {
   "codemirror_mode": {
    "name": "ipython",
    "version": 3
   },
   "file_extension": ".py",
   "mimetype": "text/x-python",
   "name": "python",
   "nbconvert_exporter": "python",
   "pygments_lexer": "ipython3",
   "version": "3.7.6"
  }
 },
 "nbformat": 4,
 "nbformat_minor": 4
}
